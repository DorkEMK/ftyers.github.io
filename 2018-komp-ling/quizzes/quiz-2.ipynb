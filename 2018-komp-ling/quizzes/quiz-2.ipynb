{
 "cells": [
  {
   "cell_type": "code",
   "execution_count": 45,
   "metadata": {},
   "outputs": [],
   "source": [
    "words = ['beach', 'cat', 'ash', 'fox', 'peace', 'kiss', 'dartz', 'axe']\n",
    "tagged_words = [w + '<pl>' for w in words]"
   ]
  },
  {
   "cell_type": "code",
   "execution_count": 59,
   "metadata": {},
   "outputs": [],
   "source": [
    "def pluralizer(word):\n",
    "    w = ''\n",
    "    if re.match('[A-Za-z]+(ch|sh|tz|s|x)\\<pl\\>', word):\n",
    "        w = word[:-4] +'e'\n",
    "    elif re.match('[A-Za-z]+\\<pl\\>', word):\n",
    "        w = word[:-4]\n",
    "    else:\n",
    "        print(word + ' can\\'t be pluralized')\n",
    "        return\n",
    "    return(w + 's')"
   ]
  },
  {
   "cell_type": "code",
   "execution_count": 60,
   "metadata": {},
   "outputs": [
    {
     "data": {
      "text/plain": [
       "['beach<pl>',\n",
       " 'cat<pl>',\n",
       " 'ash<pl>',\n",
       " 'fox<pl>',\n",
       " 'peace<pl>',\n",
       " 'kiss<pl>',\n",
       " 'dartz<pl>',\n",
       " 'axe<pl>']"
      ]
     },
     "execution_count": 60,
     "metadata": {},
     "output_type": "execute_result"
    }
   ],
   "source": [
    "tagged_words"
   ]
  },
  {
   "cell_type": "code",
   "execution_count": 61,
   "metadata": {},
   "outputs": [
    {
     "name": "stdout",
     "output_type": "stream",
     "text": [
      "beaches\n",
      "cats\n",
      "ashes\n",
      "foxes\n",
      "peaces\n",
      "kisses\n",
      "dartzes\n",
      "axes\n"
     ]
    }
   ],
   "source": [
    "for word in tagged_words:\n",
    "    print(pluralizer(word))"
   ]
  },
  {
   "cell_type": "code",
   "execution_count": 58,
   "metadata": {},
   "outputs": [
    {
     "name": "stdout",
     "output_type": "stream",
     "text": [
      "cot can't be pluralized\n"
     ]
    }
   ],
   "source": [
    "pluralizer('cot')"
   ]
  },
  {
   "cell_type": "code",
   "execution_count": null,
   "metadata": {},
   "outputs": [],
   "source": []
  }
 ],
 "metadata": {
  "kernelspec": {
   "display_name": "Python 3",
   "language": "python",
   "name": "python3"
  },
  "language_info": {
   "codemirror_mode": {
    "name": "ipython",
    "version": 3
   },
   "file_extension": ".py",
   "mimetype": "text/x-python",
   "name": "python",
   "nbconvert_exporter": "python",
   "pygments_lexer": "ipython3",
   "version": "3.7.1"
  }
 },
 "nbformat": 4,
 "nbformat_minor": 2
}
